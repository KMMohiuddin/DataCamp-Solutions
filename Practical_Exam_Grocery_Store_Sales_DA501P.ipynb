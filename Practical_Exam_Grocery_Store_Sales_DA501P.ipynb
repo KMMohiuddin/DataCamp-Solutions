{
  "nbformat": 4,
  "nbformat_minor": 0,
  "metadata": {
    "colab": {
      "provenance": []
    },
    "kernelspec": {
      "name": "python3",
      "display_name": "Python 3"
    },
    "language_info": {
      "name": "python"
    }
  },
  "cells": [
    {
      "cell_type": "markdown",
      "source": [
        "# Practical Exam: Grocery Store Sales\n",
        "\n",
        "FoodYum is a grocery store chain that is based in the United States.\n",
        "\n",
        "Food Yum sells items such as produce, meat, dairy, baked goods, snacks, and other household food staples.\n",
        "\n",
        "As food costs rise, FoodYum wants to make sure it keeps stocking products in all categories that cover a range of prices to ensure they have stock for a broad range of customers.\n",
        "\n",
        "## Data\n",
        "\n",
        "The data is available in the table `products`.\n",
        "\n",
        "The dataset contains records of customers for their last full year of the loyalty program.\n",
        "\n",
        "| Column Name | Criteria                                                |\n",
        "|-------------|---------------------------------------------------------|\n",
        "|product_id | Nominal. The unique identifier of the product. </br>Missing values are not possible due to the database structure.|\n",
        "| product_type | Nominal. The product category type of the product, one of 5 values (Produce, Meat, Dairy, Bakery, Snacks). </br>Missing values should be replaced with “Unknown”. |\n",
        "| brand | Nominal. The brand of the product. One of 7 possible values. </br>Missing values should be replaced with “Unknown”. |\n",
        "| weight | Continuous. The weight of the product in grams. This can be any positive value, rounded to 2 decimal places. </br>Missing values should be replaced with the overall median weight. |\n",
        "| price | Continuous. The price the product is sold at, in US dollars. This can be any positive value, rounded to 2 decimal places. </br>Missing values should be replaced with the overall median price. |\n",
        "| average_units_sold | Discrete. The average number of units sold each month. This can be any positive integer value. </br>Missing values should be replaced with 0. |\n",
        "| year_added | Nominal. The year the product was first added to FoodYum stock.</br>Missing values should be replaced with 2022. |\n",
        "| stock_location | Nominal. The location that stock originates. This can be one of four warehouse locations, A, B, C or D </br>Missing values should be replaced with “Unknown”. |"
      ],
      "metadata": {
        "id": "mQX2bi9SL1kY"
      }
    },
    {
      "cell_type": "markdown",
      "source": [
        "# Task 1\n",
        "\n",
        "Last year (2022) there was a bug in the product system. For some products that were added in that year, the `year_added` value was not set in the data. As the year the product was added may have an impact on the price of the product, this is important information to have.\n",
        "\n",
        "Write a query to determine how many products have the `year_added` value missing. Your output should be a single column, `missing_year`, with a single row giving the number of missing values."
      ],
      "metadata": {
        "id": "Tw9vem6tKwyr"
      }
    },
    {
      "cell_type": "code",
      "source": [
        "select count(*) as missing_year from public.products where year_added is null"
      ],
      "metadata": {
        "id": "o4Lhz7jASKuB"
      },
      "execution_count": null,
      "outputs": []
    },
    {
      "cell_type": "markdown",
      "source": [
        "# Task 2\n",
        "\n",
        "Given what you know about the year added data, you need to make sure all of the data is clean before you start your analysis. The table below shows what the data should look like.\n",
        "\n",
        "Write a query to ensure the product data matches the description provided. Do not update the original table.  \n",
        "\n",
        "| Column Name | Criteria                                                |\n",
        "|-------------|---------------------------------------------------------|\n",
        "|product_id | Nominal. The unique identifier of the product. </br>Missing values are not possible due to the database structure.|\n",
        "| product_type | Nominal. The product category type of the product, one of 5 values (Produce, Meat, Dairy, Bakery, Snacks). </br>Missing values should be replaced with “Unknown”. |\n",
        "| brand | Nominal. The brand of the product. One of 7 possible values. </br>Missing values should be replaced with “Unknown”. |\n",
        "| weight | Continuous. The weight of the product in grams. This can be any positive value, rounded to 2 decimal places. </br>Missing values should be replaced with the overall median weight. |\n",
        "| price | Continuous. The price the product is sold at, in US dollars. This can be any positive value, rounded to 2 decimal places. </br>Missing values should be replaced with the overall median price. |\n",
        "| average_units_sold | Discrete. The average number of units sold each month. This can be any positive integer value. </br>Missing values should be replaced with 0. |\n",
        "| year_added | Nominal. The year the product was first added to FoodYum stock.</br>Missing values should be replaced with last year (2022). |\n",
        "| stock_location | Nominal. The location that stock originates. This can be one of four warehouse locations, A, B, C or D </br>Missing values should be replaced with “Unknown”. |"
      ],
      "metadata": {
        "id": "l1L15zhrLRDL"
      }
    },
    {
      "cell_type": "code",
      "source": [
        "SELECT product_id,\n",
        "COALESCE(product_type, 'Unknown') AS product_type,\n",
        "COALESCE(NULLIF(REPLACE(brand, '-', ''), ''), 'Unknown') AS brand,\n",
        "COALESCE(ROUND(CAST(REGEXP_REPLACE(weight, '[^\\d.]', '', 'g') AS DECIMAL(10, 2)), 2), ROUND((SELECT PERCENTILE_DISC(0.5) WITHIN GROUP (ORDER BY CAST(REGEXP_REPLACE(weight, '[^\\d.]', '', 'g') AS DECIMAL(10, 2))) FROM products), 2)) AS weight,\n",
        "cast(coalesce (\n",
        "round( cast(price as decimal(10,2)),2), round(cast((select percentile_disc(.5) within group (order by price) from products) as decimal(10,2)),2) ) as decimal(10,2)) as price,\n",
        "    COALESCE(average_units_sold, 0) AS average_units_sold,\n",
        "    COALESCE(year_added, 2022) AS year_added,\n",
        "    COALESCE(UPPER(stock_location), 'Unknown') AS stock_location\n",
        "FROM products;\n",
        "\n"
      ],
      "metadata": {
        "id": "Hy_Zj7L9LVTa"
      },
      "execution_count": null,
      "outputs": []
    },
    {
      "cell_type": "markdown",
      "source": [
        "# Task 3\n",
        "\n",
        "To find out how the range varies for each product type, your manager has asked you to determine the minimum and maximum values for each product type.   \n",
        "\n",
        "Write a query to return the `product_type`, `min_price` and `max_price` columns.\n"
      ],
      "metadata": {
        "id": "V5z7w_SiLgTC"
      }
    },
    {
      "cell_type": "code",
      "source": [
        "select product_type , min(price) as min_price , max(price) as max_price\n",
        "from public.products\n",
        "group by product_type"
      ],
      "metadata": {
        "id": "v-6DeHiSLeVP"
      },
      "execution_count": null,
      "outputs": []
    },
    {
      "cell_type": "markdown",
      "source": [
        "# Task 4\n",
        "\n",
        "The team want to look in more detail at meat and dairy products where the average units sold was greater than ten.\n",
        "\n",
        "Write a query to return the `product_id`, `price` and `average_units_sold` of the rows of interest to the team."
      ],
      "metadata": {
        "id": "BsFJZlSTLpej"
      }
    },
    {
      "cell_type": "code",
      "source": [
        "select product_id, price,average_units_sold\n",
        "from public.products\n",
        "where average_units_sold > 10\n",
        "and product_type in ('Meat', 'Dairy')"
      ],
      "metadata": {
        "id": "xZ1aXkGTLr2Z"
      },
      "execution_count": null,
      "outputs": []
    }
  ]
}