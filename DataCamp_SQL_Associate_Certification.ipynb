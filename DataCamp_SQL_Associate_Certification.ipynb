{
  "nbformat": 4,
  "nbformat_minor": 0,
  "metadata": {
    "colab": {
      "provenance": []
    },
    "kernelspec": {
      "name": "python3",
      "display_name": "Python 3"
    },
    "language_info": {
      "name": "python"
    }
  },
  "cells": [
    {
      "cell_type": "markdown",
      "source": [
        "# Practical Exam: Hotel Operations\n",
        "\n",
        "LuxurStay Hotels is a major, international chain of hotels. They offer hotels for both business and leisure travellers in major cities across the world. The chain prides themselves on the level of customer service that they offer.\n",
        "\n",
        "However, the management has been receiving complaints about slow room service in some hotel branches. As these complaints are impacting the customer satisfaction rates, it has become a serious issue. Recent data shows that customer satisfaction has dropped from the 4.5 rating that they expect.\n",
        "\n",
        "You are working with the Head of Operations to identify possible causes and hotel branches with the worst problems.\n",
        "\n",
        "## Data\n",
        "\n",
        "The following schema diagram shows the tables available. You have only been provided with data where customers provided a feedback rating.\n",
        "\n",
        "![hotel_operations](data:image/png;base64,iVBORw0KGgoAAAANSUhEUgAAAn4AAADTCAIAAACQr4kuAAAAAXNSR0IArs4c6QAAIABJREFUeJzs3Xd0FFUXAPA7W7LZzbaUTbLpvSeQQglFmhCaYANERFAREVC6IqAgSJOmNCmCKKAU6T2A9A4JCSmwIb1serIl27Ll+2NwzZdGeuP+juc4mfLm7fBm7tw3b3eIMoUCEEIIIdRSKK1dAYQQQujVgqEXIYQQalEYehFCCKEWhaG3LcqTqFq7CgghhJoLjfyf2aRDrV0T9J9tH3UZ39O1tWuBEEKoCai1egbt/xJdWutVBqEGwjvF9qWLm+XVBQNauxbtHjb79ku86a1KoRc7nBFCzcvCzKS1q4BQ24KhFyGEEGpRGHoRQgihFoWhFyGEEGpRGHoRQgihFoWhFyGEEGpRGHoRQgihFoWhFyGEEGpRGHoRQgihFoWhFyGEEGpRGHoRQgihFoWhFyGEEGpRDXl9giWbMb6Xu4uA/TxPuvdmikShaWQlwj0FGYVl2SWKRpaDEEIItX31Dr3zRwSuGB1CEGAwAEHAzx92nfzrnV1XkxpTiauLBl+IzR6x7p/GFIJQVf38bCv+eSepQFWua73qINQSKjb7cp0+NV/efIkN25TWxc0Kz6z6ql/odbBgrRwTkpBd+vqKyDyJakhn+92Te+6YFL7/VkpjjvuKE7EPUooavDlCNflnYUTFPw0GeJ4nnbDt5p2kglapz63FQzZeSDx4N61V9o5eEZWaPQCkF8qD5p+UKsubfF99fG1Pzx0wcGXkpThxkxfegdUv9Ia6WgLAo9QicakSAM5EZ43eePW7tzoJ+czUArmrgB35zSA3a3a5Vn87qWDgykid3hC1/A1RrtSERhnW2eFhSmGgk7n1lINknF7yTue5w/xdZvz92QBvW37G2cdZLBPaxW8GhrlZ0amUUoXm8913yItUtSU31yFBHcvd5wXT99wDALIRLhgZdHruAMvPDrRKZXp4WT9KLcLQi5qbsdlzmfR3u7pMHej966c9Rm+81tr1Qi/UL/Sej80p1+nH93Lv4mZ18G7avpvJ1xLzBiRGAgCVQjxZPZJGIbZefOYqYA8Ldri0YFC/Hy7YmTP9HfgmNIpILI18ktPDy3pyf6+NFxIBYOJr7mVqbaFMbclm2JuzAODu0qGBjuaX4sQZRfL3e7j9Nb3P9ad5+VJVtSU32zFBHUppmeZR6os+lTtJBeN6utnymeSfK8eEfBHhyzKh5UuVM/64T0bEUFfLk3P6k+tciM0JdbXcfytl9r4Hd74fqtMben1/jtxWvGX00QcZ0/bcZdCpp+cOeM3HhkYlUvLlg1ZGphbIbXjMG98N9rDhAoBMVf7R9ltFctXZr14HgM9f9xke4ug280jrHRLU8VVs9k9zJFMHerNN6QBQMRea/Ovt2MySU3MH2PFZBAFylXbi9ptH7qeveT9sbA/X8zHZ43q6MWjUzOKyHovPkl3Wv3zcfXwvd5YJTaPVbb30bPa+B+QuvojwPTPvdRMaRaYqH73x2vmY7Fb99O1A/UY4q8t1PZacFYmlPna8xW93Slr/dvGOsZP7ewHAvOEBZgxav+UXvvj93vC1lw/dTevjY8tjmZDZxlsbrnjPPbbsWGy5Tj/hNXfyXszZin3kfrqxcA8bTqCj+amozIErIz/ZcXvs5utqrW5QoF0tJSNUL/39hU5WZonZEgBY9GbQ/BGBcZml68/F06mUv6b3CXDgs0xod74fas1l/n49+dDdtMFB9tZcUyGfCQB25iw7c5axKCuOqdCcCQDXFg0e4C888Sjj1ytJLlbsxytHAMCxWf08bLi7ryWtPxdvQqP8Nf21PInqQmwOAOSUKs5EZ7XqYUAdny2fObSzw9DODgtGBt5aMhQAtlx8CgB25sy3wpzeCnNKK5An5kgufTNIyGf+eTtl3dl4Bp2yc1IPALDlMe3NWR/2dv/jRvKVBLGTpdnOT3sAwJr3w6YM8M4pUWy5+LS4TDNriN/HfTzJ3Y0IcTwfm73/VooZg7Zvau/W/vTtQL2HWT1MKfKee4xtSnu3q8u4nm79/W23fxIuUWhe87EBgMMz+pKrcZl0ggByZkmZ5vjDDADQGww3n+X39rahEMSn/bzIp7zGkl/zsQWAbZdF5J/HH2YwJ+4DADJXqFryqajMJjoIqCOLCLJX7fkAAKgUCo1KKDTaD7beIAcMJmZLui8+AwArTzzJ3zbmh9EhcZkldCpl/C839t1MAYCbz/I3T+xWS+EuAnY3D6tNFxK//OM+AEQ+yfl7Rt8PernZmTPLdfpvD0eLS5X3nhfOHxGQViB/e8MVw/4JJx5mkCsj1Hw6O1ucmTfA+KdILL0Sn0tOk7nQ8YcZdCpFb4AN5xLm7n8IAF3drcI9rI2bvPPTVfIaW7T9PX8HPgBMHeidL1V5zTkGAN/9HZ3287sDAmz/vJ0KAPtvpZCnlRXHdFCgXWt84namfqF3wcjA4cGOPZaclau0e64/33P9eair5cMfhk953dtgAADIl6jINcmJfKkSAAqkKmMJP56O6+dnOybcZVxPt+wSRVbxf+PuLNgmAFD1q0qmdGpNJSP0UiVl6qi0YgCgUYkublZmDFqoq2VyvsyMQXMWmGVtHkWuRgAR4mLBNKEaDEDGXTJR2DShttA7wF8IAO/3dHu7q7Nx5uAg+x3/iJaPDsnePDqjSH45Xjx8zWUc/4la0uP04u/+fkxePwcF2k3q5/nwh+F+Xx2vmAuV6/R20w7NHOJ3acEgP3u+kM/U6l6MoTEYwJjb5EtVfJYJnUphmdCM/ZQlZRrepD8BYFiwAwAcfZBBzk/KlUYEYeh9ufqFXlseM9xT0MfX5lpiHjknLqsUAGgUSlRaUT8/2xHrLpPRdFiww7xhAWTPXsUhUedjshUa7eT+XoGO5uvOxlcsnLw+Dg92uCXKB4A+vjb/LIyYsuvuk8ySmkpG6KXuJxcO+fESOW3JZhRse2/2UL8TjzIAQKPVV7yli88qtbdgGeD/RvBV+rMStikNAKTK8tIyjbGcR6lFG84l3H1eOG+YfzcPwcd9PD/s5eH/9XGRWNpsnxKh/5NbqjTGzsP30vwd+N09BFQKUTEXYpvScraMZjPoz8SSm8/yAhzMPW255KKqzZ7LpAOAXKWtdndSZWN/3eFVU79nvdsui/QGw4WvB84Z6u8l5Pb3F0YvfwMA9t5MXnHiicEA95YO6+8vHNXN5a/przlbmVU7lj0yNqevry2NSqw9E1dx/j/xYpmqfM4w//G93Ed1czkwvY9Gq991NanuJSNUuyK5urhMbcNjSpXl5Tp9THpJyMJT5H/P86RxWSWJ2RIKQXTzsCLXJx+OkNM6vYFlQiWnnSzNaFQCAMjbxK0Xn5KFRKy+KFWWP8ksOTyjr589b8iPlywm/zV3/0Ma9cUTFoRahZOVGZnLVsyFRndz5ZjSp+256zvv+OiN13IltXUlFsnVeoMh3FNA/smgU8t+G3diTv+WqH1HVL+sNyG79P3N13dM6rF2XNjacWEAoNUZNpxL2PGPCAAmbLv566c9Li8YRN5zvbe5+oHsy0/EvhnmlJIvK5SpKy0asvrS6XkD/vi8FwDkSZTT99zTGwx5EmUdS0bopUrKNLY8JtkB80aI449jQw/dS5sR4Teqm8ue68l/3Ej+/HXv818PHLflBkHAn9NeM26YUVjWx9dmzlD/+8mF+6a9GEjyMKUoX6paPjqkUKZOLZBt/ai7ly3vQUrR7slWI0IcxaXKR6lFPnY88mEbee3r4WU9uJM9DgFFzcrDljtriB8ZI0d3c7E3ZyVmS/SG/8tlybvKcE/B5XjxBz3d+vrakj/eUFOZt0UFvbyt17wfdvZx1rJRwSwT2reHox0tzVri83Q49R5mdfBu2sG7aW7WnCAnc3GpIiq1uFynJxftvZm892aygwVLqdEVyV+EVduphyqV8DCliBj3e8U5jAl7yYlbonzzT/+y4THJ0GtcodqSEWqA3FKlhw3Hz57//pbrVxcNnjc8YN7wgHKd/vC9tLOPswDgo+03d0zqQQ5RyS5RcEzp5Iaz9t2/s2QoeccpEksVGi2ZPQxYfuHywojfPutJfo/oq78eShSaURuvXvom4u9/xwbeEuWTv/iWmFMa6mp5ZGZfs4/2t+phQB2chw1n/QddyGm9wRCTURyx6lKldfbfSvn+3c7je7mP7+Wu1RlOR2e+EeJ4acGgu88LK61JRuy3Nvxz47shc4f5zx3mX6bWbr8sis0oqTjsH9UdUaZQAIDZpMoBErWibR91Gd/TtbVr0XY1YXNl0KneQm5sRkml+V5CbrFcXShT6/Z9eOhu2tjN1wGAQhB+9rxcibJqh40lm8FjmaTkyyrOdBWwLdiMpFzpK/58JCJQeHQGfuGksZrpKu1mzaEQ8DxPRgbsXImypge6JJYJzc6cSa6P6ki86S3yYblRQ16fgFCHoS7XVY27xv7hSvQGAzmusKoiubpqf0xqgTy1QN5ENUWoWVS8X6xLQFVotBh3Gw9fGohQbbKLFXihQQg1Lcx6EaqN05d/t3YVEEIdDWa9CCGEUIvC0IsQQgi1KAy9CCGEUIvC0IsQQgi1KAy9CCGEUIvC0IsQQgi1KAy9CCGEUIvC0IsQQgi1KAy9CCGEUIvC0NsWsRj4K2MIIdRhvbjEG/ZPaO2aoP8USspauwoINZniMk1rVwGhtuXFSwNZTGZr1wT9R6PRaHW61q5F24XNtX3R6/UqNb5mu7Gw2bdfpXKFCZWoOAc7nBFCzctgMLR2FRBqTQxa5VCLoRchhBBqURh6EUIIoRaFoRchhBBqURh6EUIIoRaFoRchhBBqURh6EUIIoRaFoRchhBBqURh6EUIIoRaFobd6EqlcIpW3di3+E/XoUWtXASGEUNOoX+j9+346Me73TRcSK84sKdMQ434fsCKyqevWOiRSeWxCEvnfnYexUbFP67jh0ZNnS0pKq11UUFj0LCm5SauJUP20tbtJVAuxWCwWi1u7Fh1KRlZum2r/9Qu9fva8H8eGhntaN1t9WplEKhclpxv/hbRaXZlCKUrOqMu2QQF+bLZZtYsKCotS0tKbtKbo5V6FO8W6eBAdf+NudGxCUoIoRZScUccL0IVLV+MTn9W0NCYuQSZrQxcyZITNvhJRcnpsQlJ6lpjMpup4PRfn5h07da6mpSlp6Tni3MbUqn4vp8sqVhy4k+ZgYRbmZnngTuriI49LyzQf9fFoTA3alJS0LJVaAwAMhgkAqNUaAMgrKKr64+9arS4kyKfinISnIoGVpbywKPGpiMlk5hcUEgQR0jlQoVA+S0o2GAwnz14YMTSiZT/QK63D3ynWxYPoeLJJk42WbMxBfp4v3TDA34djVv2tJACkpKYLLC04HHaTVhY1AWz2FYmS0/MKio1/arU6iVSWkZXr5GBb+4bmfH5wUEBNS9Mysrgctp3wJYXUon6ht6RME5VWlC9VPcksGbv5OseUPraH62/Xnjd4922N8X1B9kJre1tBbEISmSJUTRRoNGrlbbVavU5XXl4ulclNTEx6dO8SF5/4ODa+b+8ehUXFJaWlnQL961gNlUpFo9Ob4gO90jr8neJLSaRyY9xlMExoVGqZQimRyu9Hx5syTCqt7Owg5HH/C6XPk1PthLZMFvNc5GU3F+fklDS9weDs6BDSOfDUuUiDwXD/0WNPd1d/X++W/UzoJbDZV1RUIiEneFx2mUKp1epUak1eQVGpVFZpTT6XUzEey+Ty+KfPXJwdL129IbC0zMjKLi8v53E5fXv3uH3voUQilUikZWWKPr3CG1axBr6S/fC9dADY8lG38b3cP+rjEb74bMPKabOyxfk6ra5MoWzY5j27d6FSqQZfn9v3HnA5bAtzvkwud3Kwr+PmeXl5ZQoFh8OpOLPqsx8O+78LJfv/V0avwp3iSxnv920Ell7uTrEJSeSfarVGrX7JO3SVSpVGowGDQavVpWdkdesSkiPOS8vI9PH2CA4KfBD12NnJwcHervk/BALy9Hd3c6vLmtjsjSRSuVarIzMlZwchAJCngEqtUVVp/zqtrmLo1Wq1Gk05AKhU6pS09OCgAAMYomPi0jIyfbw8HkTFMJmmPt4v7z2qSQNDb0ahHACCXSwBINDRvMG7b2t4XI6qoIi8NqVnvQh1pgwTG4ElABQVl8oVSgBgs5iWFvyaCqFSqVQqFQDo9AYeXgAgAKDSq9aqvHmtYjCWiUQVA7CdUIjx2KjD3ym+lEqtbswYk5DOgbY21tYCQVpGpkxe5mAvfBD12EZgxeNiA2s4uUxGZlfVLqp0totzcuoYeo2w2fO4bAbDRK3WaLW6vILiqj09deTsaO/i7AgAoqQUmbzM3dXF1JTBYZvZCKwaXLcGxgZrHhMAMovKAhz4uaUNTA3bIC93J4lUVvGGiMEw8XJ3JjviVGqN/N88+KWPChqDz+fbOzhUnCMWi4V2L88wZDKZcX2ZTEaGXjuh8BWPwR31TvGlbAQWpVKZWq0hx+2TMxkME1uBJQCUSmVkPKbRqPa2tT0aJDtgKBSCIIiqt4Cojsh7ZZlMRgZd8qiy2dU/L6948y2vLjy/1Cvb7Csy9u7kFRQZZxpzp7yCIvJqT+bENTH+G1GpFIO+adp/A0PvoEC7Nafj5u5/qNRod3esrowuwf7RsU/LdToy3+VzORUfgDEadN9EEIRWqysv19YxD+bxeManzvVi7KMmJ8hILBaLZSIRm8PhcDgcNvsVDMMd9U7xpXhcNp/LqXjRqfhMiydlG+Nx7beSRDPXswOTy2QyuZwMt0KhEACEQiHHy6v2rcggTa5PMt5V190r2+wrCvLzTBClkN3OJB6XbRxmaDw1eFx2xet8JUQznAANCb1UCjHAXzh/ROCqk0/e+enqkE725Mymr10rCf7/octGXu5OL9mSIIjqLlNWlhZPRc9PnYt8e8TQpqli3ZAB2BiGc8ViuUxmEItftTy4A98pvpSXu5ONwEKUnG7491ayYpSl0ahUKrUBpy5BEEqlSq/XUyj4szzVE4vF4pwc8na3LuG2dpz6n7CvcrM34nHZfl5uKWlZKo2GSqXyuZyKl3GVWtPgbEqt1uh0OvLZYgPUL/SO6e4yprsLOb1yTMh3b3WSq8oFXNOG7buDIcOqOZ/n7PSir9jSwpycKbCyfOuNIa1bPTLpJWOwWCx+dQJwh79TfCkel90luJrR9TwuOzws6GVbE1Bd2svn8WLiEiRSWUjnwCaraEdBBl2hUBgSGtpadcBmb8TjsmvKpnp3D655O6KGaQAAG4HVU9Hzi1euD369X8NqRZQpFADAYjIbtj1qDhqNplKHc9SjR017GpNJsAGAw+FU7NdqFxrWXJUaHd4ptgqdTqfWvGRAdcdgDLp1GZlRezmVOpyx2bdrSpXK8P+DJDD0tkVVQ28zIQMwOSCrHSXB2Fzbl1ch9DZV0DWW1lShF7UFGHrbhxYLvSSZTCaXy8U5OUI7u3aRAWNzbV86duht2qBbC2z27VfV0NvwL56iDsM49jlXLBbJZO0o/UWodYnFYrlM5uXlhacMqhcMvegFMgDLZDKRSNRe0l+EWosx2fVs3NBl9GrCLwag/8PhcMjxXCKRSF7/rxIi9CposU5m1FFh1ouqIRQK2Ww2+R0kL7ypR+hfcrJbqFW/OIQ6AMx6UfU4HI6nlxeHw4l69Ajf2o0QmeyScReTXdRImPWi2pDpLw6/QojsZMYRVahJYNaLXsKY/opEIkx/0auJHMkcEhqKcRc1Ccx6UZ1g+oteWWTcxZHMqAlh6EV1hd8+Qq8gsVgMBgPGXdS0sMMZ1Q9++wi9OpJEIjAYcFAVanIYelFDCIVCoVBIDvhs4QCMz5tRy0gSidhsNsZd1Bww9KIGIodftXAAlstk4pycFtgResVh3EXNqlGhd8qMry9cvtok9YhLeDpwxJialkpl8t//PEROz5q/+OTZyCbZab0UFBY9S0quOv/oybMlJaUtX582ooUDMKa8qAVg3EXNrVGhV6vTNlU9nBwdvl84r6alUqls4y+7yOmJH4zpEtK5qfZbdwWFRSlp6VXnBwX4sdlmLV+fNqViAG6+n+Co9k1qLaCgsCi0d8Scb5Y0ppBLV2+E9o44cOREpfnjPpkW2jtC14IvqqqjC5euxic+q2lpTFyCTCZv2Rq1ELFY3K7jbu1pTB0lJadGXr5GTof2jsjIym6KqrUt1bbhqJgnl6/dbIG913uE89Wbd7Zs352SlhExoK9cXkbOjIp5sm7jtoys7J7duyyYO4PLYV+7eWfdpu3ZOWIfL49vv57l4+WhVKnW/vxL5D/XTBmMd98cPvmjDx5Fx567+I+Xh/vv+w+uWrpw996/enQLO3LizJP4p4VFxTFx8e6uLl/PmsZiMr+YtwgARo3/dMWSBWcvXO4WFiK0tRbn5q9avykq5omttWDSxHERA/rGxCUc/PuErY314eOnOGZm3y+a1+AgnZySFpfwVKfX0+m0rqHBJaWSZ0nJBoPh5NkLEQP6Xbh8pVOgf8yThCB/34SnIoGVZWriM42mvFQikZcpTExMXuvZncthl5drb965VyqRUqlUG4GVVqvtGd61YfVpF4xDoHPF4qicHPIdwADQJN9EasUveJixWDOmTnJo3LXYzcV5xtRJQf6+TVev5hXg78Mxq/GeMiU1XWBpweGwW7ZSzQ6/R0R6lpR8/uKVQQP6AMC6lUsEVpatXaOmV20bdnFytBfatsDe6xd6M7Ny5nyzZMbUSd3Cgg8fO52UnAoA+QWFn06fu+irmX4+nlt27Plh9YZVSxcuWrZ68sQPXuvZ/fc/D/3409bdW9f/tGVnbFzCpjU/FJdI5i1a6unuRqVSIv+5Fh0TN/nj8QBEekYWAJRKpKfORU755MMvpnx07NT5yV/OO/bX7k8nvr9kxbp5M6cKba3FuXnysjK9Xv/lvIUO9na/bl77JP7ZgiUr7WxtlArlhctXR731xq+b1+47cHTdxm0H9mxrwEExGAyx8YnOjvYuzk4xT+IfRsX07tm9sKi4pLS0U6C/Xq/XanXRMXGO9nZWVpZarVav0ylVanFunqe7q6WlxcOomCdxCT3Du966+0BeVta9S4hEKkt4KuJ2uOtUtcgATL4GWCwWy2QyMvQ25tvAZAdgfS+ImvLyNT9tPX/pikKhDO4U8M2cL91dnTUazS+//nHh0hUAGBIxYOqkCXkFhfMWLu3TK1z0POXew6hOAf5SmXTnprUMBmPjL7vuPYz6bv7sC5euhnYO6t+nZ6lEsubnX67fumvKYAwdNGD6Zx/T6bSCwqI1P2298+CRvdD2w/dHDR00oGpl8vMLLly6ai2w8vPxSkpOXbluU1JyyoA+vZVKVcOOSXN7npxqJ7RlspjnIi+7uTgnp6TpDQZnR4eQzoGnzkUaDIb7jx57urv6+3q3dk2bTMeLu4eOnjzw94mCoqLe4d2+mjWVz+NVTYEIgvjz0LHf9h0oLin18fJY/t38Z8+Tf966s7ikdNT4Tw/v3bnt19+9PNyYtqaPomN//mVnanqmt6f7vBmfe3t6HDhyQiaTP32WdPXmnUB/39VLF9pYC1r7Q1dDoym/fuuOVCYnCMLayrJH9y6nz180tmGVSk2n04pKSlVKlZOjvUQqtbEWXLp6Q2BpmZGVXV5ezuNy+vbuQaVSS0oldx88UqnUTKYpi8m0sRZ4e7o3rEr163C+fO1mp0D/D8eO8vb0+HrWdBaLCQAXr1zvEtK5T8/uAkvLzz7+8PK1m1KZHACycnJodNqs6ZNnTJ2k1+v/Pn567oypnYMC+vfpuW7lEh6XAwAKhXLL+pVvDh9MoRDGvfh4eXw6cZy3p8e8GZ+bMhgxTxKCgwIBoGtoMPvf2/CEp6KUtIzvF8z19vR4981hgwf2O33+Irlo9hefeXt6jB31Jnln0GAyeRmVQunRLaxzpwAuh21hzqfRaE4O9uRSX2/P0OAgthnLuD6LyQz097WztXGwF5YplHq9vrikJDgoQGhr4+PlYWHOb0xl2iOyFzokNNQ4HDrq0SPyJ7HkMlkdnwrLZbJKD97q3pt99sKloyfP9uvdY/rkj6Jj4r5fuRYA1m/e8cdfh/18vW1tbfbsO7h774FyTflT0fPtu/deuX7LnM+3tRHEJ4pi4hJ0Ot3h46dk8jJzPu+p6Hl2jhgA5i5cev7ilW5hIdYCq30Hj/y274BOp5s6a/7lazcH9e8jlcq+Xfbjw6iYqpWRyuRPRc9LSko15eVTZ82PeRL/Ws/uKWlp6ZlZ9TmoLUepVGk0GjAYtFpdekZWty4hzo4OaRmZCqUyOCiQIAhnJwcH+/baK1tVx4u7l67eWL1hy2efjN/204+5+QWLlv4IAMYU6Js5X+74bd+V67efJT1ft2nbnC+nHPpjB4/HPXDkRKcAv6GDBvh4eXw1axrZ+azVavPyCyZ/Oa9n9667t25wd3WZNH1uWZmipKR0264/eoZ33bPtJ5VK9efhY639oauX8ExUplD27tEtpHNgfmFRZnZOxTasVKmSU9PVarW3l7tarVaq1ACgUqlT0tID/XyCOwVIpLK0jEyDwXD95h0Gg9Gjexc+j1dYVKzWaBpcpfplvfkFBZ7uLuQ0nU4jA352jvhB1OOBI98zrlZUXLJm2bfrNm37+/gZezvh5598SKbwbi5O5Ap9e4UDwLWbd+zthEJb60p78fHyICeoVKqnh1tuXr63R+U7i7yCQhuBFZf7Iovy8fS49zAaAJwdHUzodAAwNTWt56H4D0EQwZ0CYuMSLl+7SaVQvDzdq3ZBCG1tKs0hb0QAgE6jGQwGhVIJAHw+j5zJYbNLSl/R0VhkEmxMhXPFYjLuykQicgVjNsypkhaT45nZHI4x4opzctzd3Oqy38LCYgCQSGV+vt4b1/xAo9GUKtXhY6d8vDxmfD6pXKsdNf7TP/46PKh/H3L9o/t3OTs53Lr74Nipc/ceRLGYTIVCOfrtEcYCk1PTo2PienbvsnaFLdsIAAAgAElEQVT5d1KpbOnqDSqV+mF0bEpaxnvvjHzv3Td7du86b9HSY6fPhYV0qqlW0TFxxSWlI4dFfDd/tkqlHjhyjEKhrOcRbWkhnQNtbaytBYK0jEyZvMzBXvgg6rGNwIrH7SA/akb+PnMHexnRyTMXJo4bHTGgLwB89/Wsdz6YJM7L//v46a0bVnUOCiB7kjlmZmwzs9XLFr3et7dUJudzuSWlElsba08Pt+TU9IoP7CIvX/P39frs4/EAMG/G5/9cu3nz7n0A6Nm9y9sjhgLAG0MHRcfEteonrhGFoOj1enlZmaO9PdPUlMVkstlmFdswhUKJGNCXIIiox7HGrZwd7V2cHQFAlJQik5fl5uXr9Pre4V3pdLqNwOr46fONqVL9Qq85n5/wVGT8M7+gCAAsLSwGD+y3eP5sANDp9c+TU+2FtmAwHN67M6+g8NCRE4uWrT516HeyM5l8ZvDPtVumpgwA4FQ3QCkvv9A4nZubz+Nyq67D53LzCgq1Wi2NRiMHwliY8+r52Wuk0+nYZmYjhkbIZPInCYmJz5KMya4Rw4ReaQ5BEBX/NGUwAEAuV5CZurysrKmq164Zu6Mrkv2bAVebCnM4HDAYXqwgr8fQnjeGRVy5cfvmnfs379wHgGmTJ1pZWgDAU9HzN8d+RK6jUCiVahUA9Arv6uzkAABhwUEAcOX6bSaTCQCv9exuLDBHnAsAnYP8AYDL5axd/h0AHDlxBgAOHDlhHEKVWeuYlPyCAgDw8/EGAFNThquzY3yiqJb12wLyn4xCIQiCMP5bdBjkN9Y63ssxs7LFQyNePPsg2/bz5NSqKZBarX4Sn7h+4zZZWRnHzCwwwK/a0nLz8r09XyRFNBrN19szNy8fABzsXwx7ZJqatsHRgiQfL4+S0tLomLjomDguh92jW5dKK/B53EoXcABgs188IqRSKQa9QSYvo1KpdPqLKz95hW+w+nU4h3cNvX7r7qPHsQaD4dS5SLILrnuX0PMXr6SmZ9Bo9FNnI1et36xSa0ZP+Cw6Js5GYDV4YH8AoNPpwZ0C9uw/qNVqM7KyF69YU8uDzzv3H5Ip7OVrN9Mzs0I6BxIUAgCKS0r1+henva+PJ4vF3LPvoMFgeJ6Seuz0uV7h3RpzICoqL9dev3U3K1vM4bA93d3Ip78EQWi1uvLyug7qptFoTKZpbFyCWq3OzhEXFZc0VfU6Hs6/hHZ2lf570QFIEMY/694lqFQo58+efmTfr3O+mAIAW3bsIee7uTgd3b/r6P5dOzev3bR2OdlNwv33hoDBYAwe2C89M+vgkRMsFjPQz8dYINnLQt5xlpdrV67btOuPv8z5fAB4640hZJlb1q2Y8+XntdSKz+MBgDg3l2xX4tz8hh+4llL5mtSBkO/f7ZDvI7Kw4BcWFZPTpRIpANjaWBunyRTo9r2Hh4+dvnHr3vaNa25cOP7+mLdrKo3P5+UX/JcUiXPzyJZPtIfWoVaru4R2HjksIjQ4qKxM8ahCakui06vJQivFYlNThl6v1+n1xjIbU6X6hd4AP58ZUydN/mJe2GuD//jzsI3ACgD8fb1mTZ/8/sfTuvQZfOLMhfmzp/N5nFnTJk+aPqd3xJvvTZwyaeI4gZXlonkzk1PSuvUb9snU2WPeGRlQ4YpWKWX0dHf9fsXa0N4RS1asXbJgjp2tjcDSws3FaeCIMYnPROQRYTGZP61eevTk2bDXBo+ZMGX0W2+83q83QWmaXwgxNWW4ODnefxR97NS5G7fv2Qlt2WwzK0sLrVZ76pzxK8UV/lkIouodEwD07NZFq9WeuXD5QVQMj8el0vAXs+uNfGAsl8mMHc5Vk+aanDoXOXHKzIfRsT26hdnbCQHAXmgb6O+bkpZx5cbtqJgnn06fu2f/QSqFWuk069e7B3mrN3TQAEqFRuXt4W5hzj987NTJs5FrN/7y9/HTVpYWZBJ87eadx0/iT52/OG3OggePHtdSq06B/gCwZ/+hU+ciN2/fXdw+vxROEIRSqdL/exlqpzpw3AWAvr16/HnwqDg3X6fTbdv1u7Ojg5uLU9UUKL+g0NHBzt5OWFxSevrcRW15OdnDIZVJVar/okuPbmE379y//ygaAM5GXk5Jy2iVL3k2TGx84vVbdwHAycGexWIZDIYGtGFbawEARMc8KS8vj41L0DWu8dc7GHw4dtS40W/L5WU83n/9wB+Meef9UW/JyxTGXPaD994Z885IiVTK5bBNTEwAwMXZ8cCebVKZnG3GIi9nfXqF9+kVTq7v7+t98eRB4/TCeTNLSkvN+Xxy+JWJicnhvTvJpRvX/EBOhHYOOnt0v0QiZbPNqFQqAHQLCz7654uv/7q5OD26caHBxyWkc2CnQD+lSm3KYNBoVAAQWFm+9cYQcin5bKPidPcuIcY5gf6+gf6+AJCTmxfeLYzL5VAplMtXb9hVeTyM6sjTy4v8yY569Qq+P/rtmLiEles2kn/Onz3d1JSxbNFX3/7w46ZtuwAgNDjo269mGaByD2p41zBygozBRqamjA2rvv/uhzXfr1zHYjHfHD54yKD+JnT6lnUrvv3hx6Wr1gPA8CEDPxjzTk1VolCoXA57zQ/fLV6xZsmKdTYCK2dHh/TMrGpv3doGAqpLe/k8XkxcgkQqC+kc2CrVajwy7go73Gu4jG1p1FvDU9Mzho8aT14PVy9bRKVSF82bOX/x8m79hlmY88kUiCCIKTO/7jPkLQB4c/jgPw8du33voZeHW2p6Zs+BI8irKAGEv6/317OmfT5zPjmuZeWSBUJbayCIyrlhmxTk73v15u0TZy4QBEGhUEKDgyq24UorE9VOApiYmIQGB0U/fpKRmc1gmDAYJvRGZFNEmUJBjs5tcBFNa9cff+WIc7/9elZrV6QJ3L73sKCg0N5OKJXLJRLpkIH9ySfcL6XRaLRt9alJKyK/qsThcOo4zIoklcqUKpWFuXnFPiWpTE6jUo0j4+qrVCJhm5nR/v/EKy4p5XLYNBpNr9c/SXhaaZNAP5+KCbRery8qLrGytGjDQbfJ6HS6xowFbSbt7ierGnaVLi/XKlWqSg/4KqZAAKDVaqVSmbk5nyAIqUzOYZvV1Cz1eoNEKq32yWjbp1SpDAZDg4OdVquNTxT5+XqRx+3U2cgBfXrV8avt5K4rzmlzoTctPbNMofT37QhDHgwGQ0ZWdlFxibWVlb2dbd0bK4bempAjUXv16tXaFalNebn2YJVfrRr9zggTeuWhea+INhh6213cbVNX6VfWqXMXyd9HyssvoFAogwf2q+OG7SD0Igy9tWgXoRdV0tZCb3uMu3iVbgvKy7Wp6ekKpcrR3s7SwrzuG1YNvTjwB7UnQqHQOOIfoQZo7z/RjFoRnU7zqvIjEw2DLw1E7UzdRzgjVEmSSAQGA8Zd1Oow60UIdXzk99Mw30VtBGa9CKEOjvweEcZd1HZg1osQ6sjIoXlCoRDjLmo7MPQihDosMu521N+rQu0XdjgjhDom8j2AGHdRG4RZL0KoozEOqupI799FHQlmvQihDoX8uW8cVIXaMsx6EUIdh1gsBoOhg730HnU8L0KvQqls7Zqg/7THnyZHqCZqtVoulzf3A1ccyYzaEexwbosq/donQu2aWq0WiUTNugvjiCqMu6hdwA5nhFBLkMtkzZH4GpNdHFGF2hHMelGHdeLMhdDeESfPRrb6Li5dvRHaO+LA/79JUCqTh/aOmDLj6+arXmNcuHQ1PvFZTUtj4hJkMnkdizIzMxPa2YlEIrms8mvJG0wsFovF4qhHj8gnu5jsVnT42Km8gsKalkpl8t//PFTT0riEpwNHjGm2qrUb4ty8Y6fO1bQ0JS09R5zbmPIx9KIOrgV671+6CzcX5xlTJwX5+zZ3TZpQgL+Po32N8SwlNV0mr2vopVKpZFYqEonEYnEjK0YGXXFODgbdmuz4bV9uXn5NS6VS2cZfdrVsjdofcz4/OCigpqVpGVk5uXmNKR87nFEH9yQ+8dDRkxlZ2UMH9Z/zxZTC4pJ5C5f26RUuep5y72HUjQvHDx09ue/g0ewcsYU5f9zotyd+MObqjds79+wfMrD/6fMXk5JTh0UMWPT1LBM6XfQ8Ze3GXxKfJZnz+Z98OHbksAhyFymp6eM+mfZU9Ny4ZqU65OcXXLh01Vpg5efjdeHy1e279srk8hFDB7XG8air58mpdkJbJot5LvKym4tzckqa3mBwdnQI6Rx46lykwWC4/+ixp7urv693HQvkcDieXl65YrEYQCgU1rc+ZMwW5+RwOBw2m41jmGsy7pNpxSWl33y3fMqkCSOGDjp09OSBv08UFBX1Du/21aypEonsi3mLAGDU+E9XLFnAYjGXrdrwIOoxi8V8f/Tbn3/yYS0lf7Vo2fAhAw8cORHk7zty2OBV6zdFxTyxtRZMmjguYkBfABDn5leaGROX8NfhY9ZWVsdOn3NysF8wd8aWnb/dexAVGhy09ofvuFzOr7//+fufhxQKZa/wrsu+/ZrLaSuvBJXJ5fFPn7k4O166ekNgaZmRlV1eXs7jcvr27nH73kOJRCqRSMvKFH16hTesfMx6UQd37NQ5D3dXgaXl38fP/PX38XJN+VPR8+279165fsucz3/0OHb1hi0spun82dOZTOam7bvT0jMlUtlT0fMNW3ZwuRwAOHPh8vVbd6VS2SfTZj+Kjh3Qp7dSqVy6av2DqMfkLvYdPGJmxjKuWbUOUpn8qeh5SUnp85TUBUtWFhQV9e3do1l7whtPqVRpNBowGLRaXXpGVrcuIc6ODmkZmQqlMjgokCAIZycHh5rT4orUajXZ1UxGX/L3LuqyIbmmsWOZTHM9cSxVreZ++TmLxRw/9t2wkE6Xrt5YvWHLZ5+M3/bTj7n5BYuW/iiwsvx04vsAMG/mVKGt9YbNO2g02p+7tyz+Zs6ve/YXFBbVUnJGVvbCpavcXZ379Or+5byFFArl181rx7zz5oIlK5/EJ+r1+qozlQrlxX+uA8DurRsYDMaHk7/o2b3LHzs2ZWXlnL905VnS819+/X3t8sV//fZLYVHxgb+Pt+BxegmtVqvRlAOASqVOSUsP9PMJ7hQgkcrSMjJ9vDwYDAafz/Px9mxw+Zj1og5uzDsjvpo5LS+/YOg7H0Revta3Vw9y/tH9u5ydHJJT0xd/MyfAz4fDNrty43Z2jrig6MXV583hg7/9etahoydXb9iSmZktkUgVCuXMqZ+OH/tuTFzCH/sPGa9TldaspTIXr9wAgPmzvxgWMWDE0EETp8xs/gPQBEI6B9raWFsLBGkZmTJ5mYO98EHUYxuBFY9bp2FT5AhnY7xkczhymUwkk1V99bJMJiMjLvknmeACAOa4dRfcKcCUwfDz9baztVm1btPEcaPJlPS7r2e988EkWVlZcFAgAHQNDQaAIYP6+3i629pYq9QaAJBIpbUXTnYdxSU8TUnL2LVlPZfL8fb0iI59cvr8RYIgqs7s17sni8WcMXUSlUrt36enWq0eN/ptAOjRvUupREqj0gAgKzvH18tjzfLvVCp1Sx2k+nF2tHdxdgQAUVKKTF7m7upiasrgsM1sBFYNLhNDL+rgAvx8AMDGWmBhzs/IehEXe4V3dXZyAAArC/N7D6PW/LxVoaj81XZvT3cAsLcTAkC5VpuVLQaAQH8fAOgU4Ldu5RJymFXVNWupDPkEzsfTHQA83F2b83M3JTJGUigEQRDQ4GfnFTaUkXG3SlFkRzQHxyo3kaxs8dCIAeQ02eDz8wvM+XzjCnwe9/tV6x9Fx7q5ONWlwJDOQQCQV1BoI7Di/nvj5ePpce9hdLUzAUBgaUmlUgGATqMbu0nIOe5uLrOmT962648Vazd2CvSf++WUpj4ATYO8/wMAKpVi0DfN2BHscEYdXF5eAdlrVFxSKrC0JGdy/8239h48cv7ilfdHv332yL4P3nun4oYMBgMAqJQX5wiPxwWAwqJiAEjPyPrhx58uX7tZ7Zq1sODzASA3vwAAiopKmvqzNpdG/sKLmZkZOR6K/A8Ighx1ZZxj/I/D4VRNhVGDWVjwyRYLAKUSqbEZk7Ra7eQv5vXpFX7n8qlDf+yoS4FmLBYA8LncvIJC7b93mQWFRRbmvGpn1l6aVCbv91rPC8cPHNizjW3GWrR0dUM/aPNqjp84wtCLOrjd+w5cuHx11frNANA1LJicaTyXJBIpANjZ2hSXlF68fA0A9DXc1fboFgYAW3f+Hnn52vK1Px87dc7D1aW+leneNRQAftqy459rt9b8vLVRH6xVEQShVKr0en1dViZTHFKSSAQGAz6sbVZ0Gq20VKLT6fr26vHnwaPi3HydTrdt1+/Ojg72QluCQgBAcUmpRConu3BMTEzI/hudTleX8n19PFks5p59Bw0Gw/OU1GOnz/UK71btzNrLiY1LmPjZjJLSUk93117hXbV123tbQBCEWq2p4+GqFoZe1GGRv8fZKcB/wZKVp85F+vt6TZ44jrzuGI0YOojFYi5dtf6DSdNtbW3IvLbaH/L08nBbsmBOQVHRN0tWZGXlzJo22dnJoV4/+UmhULuGdp74wZiUtIx5i5aSX0miUNv4OUhAdWkvn8eLiUt4HBtf94LkMlnUo0f4VoMW0DO86+xvlvx1+Piot4aHdwsbPmp8175Dox4/Wb1sEZVKFVhauLk4DRwxJjcvb1jEgAmfzegd8ebNO/d9vDxWrttce5Mml7KYzJ9WLz168mzYa4PHTJgy+q03Xu/Xu9qZRM1dQQRBdAsL6RoWPGjke70j3ty0fffs6ZOb53g0DFHDNACAjcAqL7/g4pXrDS+9TKFo8MYItQoWk1mv9TXl5VKpzMrSoqalEomUz+PR6S8f+qDXG0pLSy0szGteQf8k4WmlmYF+PpQK1yC1Wq1Qqsz5L+mO6zAUCoU4Nxd/YLmR6tvsjcrLtUqVqqbv7UhlcjqdxjQ1LS/XanVapqkpAOTk5lUa7SywsrSztam0rUQiZbPNKvZq1DSzFgqlUqlU8Xncum/S7ihVqkrf/sdhVqjjM6HTa4q75FKBlWUdi6JQiFriLgDodPoncYmVZvp6e5pUCL0MBoN8PPyKUKvV4pwcfGV9a6HTaXR6jd+XNYZkOp1mvPvMzctPSPy/n9329fasGnorPjmufWYtWExmg+8q2i/MelH78wqeqO1aSUlJfHw8fkGokbDZt19Vs14Mvaj9wWtQ+6LRaNrRCJo2C5t9+1U19LbxIR4IoXavAz/DQ6hhMPQihBBCLQpDL0IIIdSiMPQihBBCLQpDL0IIIdSiMPQihBBCLQpDL0IIIdSiMPQihBBCLQpDL0IIIdSiMPQihBBCLQpDL0IIIdSiMPQihNCrzmAwKFUqcrrqDw6jJoehF3Vkh4+dyisoBID9h45+98OPTV5stUJ7R2RkZTfVvlrLhUtX4xOf1bQ0Ji5BJpO3bI1Qw9XeYmPiEgaNfG/MhCk6nW7yl/N6DRwZG1/5xZdNTiqT//7noebeS4OJc/OOnTpX09KUtPQccW5jysfQizqyHb/ty83LB4Be3buOHfVWkxfbgQX4+zja1/ha+5TUdJkcQ2+7UXuLvXDpyqD+fU4c+C3hqSjxWdKdy6eC/H2bu0pSqWzjL7uaey8NZs7nBwcF1LQ0LSMrJzevMeVTFy5c2JjtEWp5dDq9LquN+2RaZnbO3fuPOBxOfkFB1OMn3cJCFi5dlZdXsGr95p+27qTRqKLnKTO//m7nnv1Wlhbenu5kfvDNkpV7/zpcKpGFBXciCKKWYr093f88dGz2N0t+3vrr9Vt3QzsH8fm8Hb/te+/dkTwu9+CRk+s3bw/vGkqjUddv3j5/8YrIy1c5HLaHm0tMXMLGrb/GJ4rmLlr697FTXp7u9kLb5jlaDRQd84RCoXC5nDPnL5aXa+/ce5j4LEmpVAltbU6di9Tp9Dm5eTqdzlpg9dKiDAaDDl8a2Gh1bPYKpXLx8rVfffvDvoNHJFJpt7CQDyZNN7ZYV2fHFWs3Llq2esuO35KSU3v16Lpt9979B4+mpGeci/znxJkLUpn8yvVbg1/vx2AwKpWclS1e8P2qles3nT53UWBl5eripFKp12/evmTFugOHj0tl8pBOgRQKZeHSVWZMpoO9HQBs2raroLDYycF+7Eefm5jQv/p2+dZf95jQ6Twud/rchTKZ/NKV68GdAi0tzJvnmDVcSank8ZM4Lw+3S1dvyGRlD6Iexyc+yxHnOjs63Lr7oKSkVCqV5RcUujg51qU0rVZbaQ5mvajDmvvl5ywWc/zYd8NCOpWWSgsKiwAgOyf3t30HZk779Js5X/y89dczFy6vWrrww7Gjvl+5zmAwXL15Z8dv+xbM+WLZd1+fOX/x7+Onai/2WdLzdZu2zflyyqE/dvB43ANHThhXO3763OYdu+d+OcVaYLVlx56nouQdG9dMeH/0giUrnyU9VyqUFy5fVSiVv25eGxrcad3GbS17bF5OqVRpNBowGLRaXXpGVrcuIc6ODmkZmQqlMjgokCAIZycHh5rTYtRaTp29+FT0/MCebWuXLz568uyjxzEVW+yxU+ev37r784/L/tixMeZJ/O27D4YM7NcrvGu/3j3mzZw68YMxLBZz3sypzCrvBtbr9V/OW8TlsLf//OPQiAHzFi0tKCzauO3Xm3cerF62aOFXM4+ePLvv4BHyFCtTKsmtxLn5UqnMAIaUtIyTZy+uXLLgs4/Gb9iyg0anfTrxfQCYN3Oq0Na6NY7TS2i1Wo2mHABUKnVKWnqgn09wpwCJVJaWkenj5cFgMPh8no+3Z4PLx9CLOqzgTgGmDIafr7edrU3F+Z99PL5LSOehgwYAwKQJ74d2Dho+eCAAlJeXnzh9/p2Rw7w83FydHCeMG3PizIXai2Wbma1etmjw6/0EVpZ8LrekVEKuc+b8pWWrf9q6fqWfj5deb9h/6OgnH461EVh1CwuOGNA38vI1crXZX3zm7ekxdtSbScmpLXJIGiikc6CtjXXnoAAAkMnLHOyFAGAjsOJxOa1dNVQZlUqVyeX5BYXBQf67tqx3cXKs2GJ9vD3Wrlgc0imQz+dx2OxSidTDzdXWRuDoYN81NDjA19uUwegaGkyn0yoVm/gsKT0za8G8L/18vD75cOzXs6YpFMqDR05+PWtaSKfAnt27TJs88ciJs7VUbPb0yf6+XmNHvQkAcrk8OCgQALqGBrPNzJr5kDSWs6O9i7Ojq7OTGYslk5cJrCxNTRkctplNHbp8alL5+CLU4Zmb843TtjYCAKBSX9yDpmdkXb91d+ee/eSfLFble/9KrCwtnsQnrt+4TVZWxjEzCwzwI+f/+vufLBYz8VlSoL9vcUkJAHw5b5Fxq4H9X+sC4OzoYEKnA4CpqWkzfMqmxOFwAIBCIQiCABz72rYNjeiflJxMtreB/V/7aua0iksFVpabt+2ePmcBx8xMVlZW92LFefn2dkIyTBIEMfrtEUXFJQDg7upMruDh5pqdI9bra2wetjbW5J0Bi8WsZbU2iM1mkxNUKsXQRDXH0IvQf6wFVh+8987wwa8DgFxeVlRSWvv6h4+dvnHr3vaNaxwd7PYdPPIk/ik5f8u6Fbn5+ctW/9TvtZ58Hg8ADuzZ5uxoDwB5+YVUGjUjI6tFPlDTqPy4G7VhMnnZlE8mzPny88excT/8+POuP/6aN+Nz49LV6zebsVhnDu/lcjkzvvq27sVy2OyS0lKdTkelUgFg34Ej3cJCAKCouJSMqYVFxRbmfAqFAACDXk9uVSqVGkuoOmyivWiOimOHM+rI6DRaaamk7mN8evXoeujoSXmZwmAwrNu8/VzkP7UXm19Q6OhgZ28nLC4pPX3uora8nFzBzs52xNCIQH/ftRu30em0XuFd9x88ShAUhVI5bc6ClNT0pvuIrYMgCKVSpf/3CovajoN/n1iyYi0AhAV39vX2JBu/scXmiHN9vT25XM6zpOc379zX1vnU8PX2VCiUR0+e1ev1V2/c3v7bXgcHYa/wrjt+26tSqaVS2e69f/Xv0wsALM35N+880Ol0T+IT7z2IqqlAgkIAQHFJafvKgEkEQajVmsYMHsTQizqynuFdZ3+z5K/DxwGAoLxo7URNWRxBvDtyuLeXx8ARY3q8PkIikU14f1TtxUa83jcq5kmfIW+NfG9il9DOV2/euX3vIbkLCoWycN6MS1eu37738OvZ09MyMrv3H/bG6Am9wrv0Cu9qrEybR0B1aS+fx4uJS3gcG98qdUK1GPPuyMKi4vD+w/sMeSvpecrYd9+s2GLfe/fNn7bu7B3x5qKlqyMG9F3z01Zpxe9n15zfcTnsDau+37htV5c+Q7bs+G3RVzOZpqbfzPmiTKHoOXBEv2HvWlpYTJ00AQDeH/32qXORXfsOXbx8bbcuIcYzrlLRAksLNxengSPGJD4TNefxaDCihmkgBzrk5RdcvHK94aWXKRQN3hihVsGqMvyyaWk0Gq1Ox2Iy9Xr9k4SnlZYG+vlQKgROrVYrlcrMzfkEQUhlcg7brKaONXlZmSmDQaO9ck95dDqdWqNp7Vq0e/Vq9lKpTG/Qkw87KlGp1BqNhsvlGAwGmbyMy2FXXScpOVXx7yhlkquzE5fDNhgMUqmMx+NWXFRWpqBSqaam/30ZqbxcK5PLLSoMqnjFVf2BsFfuKoDQS5mYmJgAAIBOp38SV/lnfXy9PU0qhF4ajWbx77cSq72KGbX9kZyow+DWPPjc1JRBhkmCIGpqsUnJKcXF/zfQwYLP53LYBEFUirsAYGbGqjSHTqdh3K0dZr2o/WnurBc1Lcx6mwQ2+/aratbbXh44IYQQQh0Ehl6EEEKoRWHoRQghhFoUhl6EEEKoRWHoRQghhFoUhl6EEEKoRWHoRQghhFoUhl6EEEKoRWHoRQghhFoUhl6EEEKoRWHoRQghhFoUhl6EEEKoRWHoRQghhFoUhl6EmkZScmrk5Ws1Lb15535MXAIAxCU8HThiTNfBo94AABhMSURBVMtWrRoqlfpRdGzV+RcuXY1PfNYaNUJtVJO32F1//LVy3caalh4+diqvoLAJd9cw4ty8Y6fO1bQ0JS09R5zbmPIx9CLUNJ4lJZ88G1nT0ktXbkTHxAGAk6PD9wvntWzVqqFSq9Izs6rOD/D3cbS3a40aoTaqyVusXq+vZemO3/bl5uU34e4axpzPDw4KqGlpWkZWTm5eY8qnNWZjhNqyh1Ex5y7+4+Xh/vv+g4f37jwbeXnvgSPa8vJhgwd+PmkChUKkpWeuWLfxUXRsoL+vv48Xj8f9cOyo8Z9O37l5LZ/HA4BJ0+d8M+dLd1fnqJgn6zZuy8jK7tm9y4K5M7gc9rWbd9Zt2p6dI/bx8vj261npmVk/b91ZXFI6avynh/furFSTNT//cvnaDQAQ5+a+++Ybu/f+1aNb2IEjJ0pKJaKk5IfRMT27d3l35PC1G3/JFucOHdR//uwvCIKoutMGH4qi4pK79x+pNRoKheLt6W5jLbhx6y4AnDx7Ibxr2OPYODdXZ1FSirk5X61W2wltmSzmucjLbi7OySlpeoPB2dEhpHMgADyMjsnOFhsA7O1s8/ILhw9+vdH/SqjpPYqO/fmXnanpmd6e7vNmfO7t6ZH4LGndpm3uri5nIy8LLC0//nAs+W9XtY0tXLqqU4Df6fMX4xNFQwcN+G7+7Lz8AmOLlcnkT58lXb15J9Dfd/XShTbWApVK/eNPWy5euW4vtO33Wk+FUjlr2uSqVap4rtlYC/g8DgBki3OXrdrwIOoxi8V8f/Tbn3/y4bhPphWXlH7z3fIpkyaMGDro8LFTlc7ZFjuGMrk8/ukzF2fHS1dvCCwtM7Kyy8vLeVxO3949bt97KJFIJRJpWZmiT6/whpWPWS/qsMoUish/rh08cmLyx+PvP4re8du+BXO+WPbd12fOX/z7+CmdTvflV9/aCAR/7t4yeGC/A0dOFBUXG8CQkpah0724K3+WlKzRaPILCj+dPvfdN4f/unmtQqH8YfUGvV6/aNnqUW8OP7p/l7en+48/be0U4Dd00AAfL4+vZk2rWpO33hjs7+M9qH+ft0cMVavV6RlZAFBSUvrrnv39+/Tcun7lrbsPZn2z+NOPPli5ZMHfx88kJadW3WljDsWj6FgGw6Rv7x6uLk6Jz5IYDBMPd1cA6BToz+VwlCp1bFwim23m6uKkVKo0Gg0YDFqtLj0jq1uXEGdHh7SMTIVS+VT0PDMrJ9DfNyy4U1a2uLy8vDFVQs0kL79g8pfzenbvunvrBndXl0nT55aVKVQqdXRMXFFxyc5Na98f/dbi5WuexCdW28ayc3I3bd895ZMJG9f8cDby8p37Dyu22G27/ugZ3nXPtp9UKtWfh48BwLpN254lJf+yYdVH49/b8du+vPyCqlWqdK5dunKdnL9h8w4ajfbn7i2Lv5nz6579BYVFc7/8nMVijh/7blhIp6s371Q6Z1vyMGq1Wo2mnHw0k5KWHujnE9wpQCKVpWVk+nh5MBgMPp/n4+3Z4PIx60UdmUKh3PL7SqGt9az5i98ZOczLww0AJowbc+LMBW8vj+wc8V+7t5qZsbw9PR5GxdRUyMUr17uEdO7TszsAfPbxhx9O/kIqkwNAVk4OjU6bNX1ySlqGrY21p4dbcmp6l5DOVUvwcHO1tbF2dLD39vSIS3hqnP96v9feGDIIAEI6Bbq7ugzo0wsAbARWEqn0QdTjqjttcOJLoRBqtaa8vDzQz9eCzzehm9jb2T5LSnZ2dCBXsDDn9+7RrdJWIZ0DbW2srQWCtIxMmbwsLT3T3k7o5upM5gRPRc8bVhnUrCIvX/P39frs4/EAMG/G5/9cu3nz7n1rKysA+ParmTwe18fLI+rxk/MXr9jZ2VbbsCdP/KBHtzAAeK1nd3FuvoU531h4z+5d3h4xFADeGDooOiZOp9MdPXl25+a1AX4+AX4+Dx49lpeVVa1SXOKzas+1IYP6+3i629pYq9QaAJBIpcGdAkwZDD9fbztbmzU/ba10zo5+e0QLHsj/ODvauzg7AoAoKUUmL3N3dTE1ZXDYZjYCqwaXiaEXdWT2dkKhrTUApGdkXb91d+ee/eR8FotZUFBobyc0M2ORc7w93QuLiqotJDtH/CDq8cCR7xnnFBWXrFn27bpN2/4+fsbeTvj5Jx92CvBrQPWsLMzJCTqdbie0IadpdHq1Oy0oLGpw6A0N7nT3waNbdx8QBGFjLbC3E1ZawcZaUHUrDodDhm2CIMBgUGs0fB6XXGScQG1Nbl6+t6cHOU2j0Xy9PXPz8q2trGwEVrx//9U83V1j4xMNYKjaxgBA+G9TZJqa6nS6ioU72AsrLiouKQUA4+AAJ0f7hKeiqlWq6Vzj87jfr1r/KDrWzcWp6lZVz9lGH5sGYrNfnHdUKsWgNzRJmRh6UUfGYZuRE9YCqw/ee4d8viWXlxWVlEqlspLSUq1WS6PRACC/oJBCIQggjMNAtFqtQqEEAEsLi8ED+y2ePxsAdHr98+RUe6EtGAyH9+7MKyg8dOTEomWru4YFN23Nq+7UxcmhwaUZDIbX+76m1+tS0jISnyUlp6YJrCwqrmBiYlJ1q0oP1mhUqjGnkUhlDa4MalZ8Pq9iz4o4N8+czweAvIJCTXm5CZ0OAIXFJTwut6Y2RhA1PlIl/r9RkPeCBYVFAitL8n6x2q3M+fyq55pWq538xbzZX3y2ee1yOp0e9trgSltVPWcbfWwaqObj0XD4rBe9Enr16Hro6El5mcJgMKzbvP1c5D++Pp4AsO/gUb3eIHqecvTkWQBgMEwA4Nbd+waD4eDRk+S23buEnr94JTU9g0ajnzobuWr9ZpVaM3rCZ9ExcTYCq8ED+5PRmkIhpDKpSqWutgJUKkUqlWnq/Hy06k4JouFn66279x8/iWMwGO6uLgRBGAx68hqqUCgNhrrexdvaWGdkZpdKpDKZXPQ8ucGVQc2qR7ewm3fu338UDQBnIy+npGUYH4L8sf+QXq9Pz8g6efZCeLfQxrcxBoMR3jVs994DMrk85kn838fPVLtateeaTF4GAJ0C/ExMTE6cuUA+EgYAOo1WWirR6XRVz9mmODxNgyAItVpTqUugXjDrRa+Ed0cOT0pOJb+eGN417KsZU1lM5trlixctXbVp2y4Wixno70ueUTOnfrps9U/LVv80oE8v8imXv6/XrOmT3/94GgD4eHnMnz2dz+PMmjZ50vQ5LBZToVBOmjhOYGXp5eGWmp7Zc+CIRzcuVK1AcKfAxcvXJKemTf7of+3dd1xT5xoH8PdkkJCQoewRQERANigouFBQcM+22l4v12vt1dKKLRd7Xa3Wa617j2q97lZLa1Wc4C4WR1WQvYdENoTseXL/OL1cmgRLAwQpz/evw5vkfZ/k85788p5zQv7yaxOGtfdxGkOY/qCdubzT39f7aUZWFb9aq9UyGQxXZ2cSiUShkK/duB0WOlR/gftrw29b/f28hWLxrbtpGIZZ9u/X1HOrEPAKPoM9P/kobsmyfxEHaTeuXWlvZ1NTW8dgmP/86MmBIycQQm/NnhYVMYpMJhucYzpL2/8vgg3N2FWJ8Z99sSVi4mxba6vJ0ZFUKlW/JIP7Wj8uZ3J0ZOw/4hkM82FDg7083Ddu23vs4M4RYaEfr1j7Udx7c2bo7rPd+KoZgLWzjYgLMvILi1Nv34uJGmtk7xKptDPVAWB6DHMjz/oolUq1RqPz8GZBC4fNPnLim4bGxhUJS4m1IK7FLZjMtnfDcVwskbY926pSqVuEQjbLQudobVFJmVQma9sywMXZuNO0+oMaTavVSmUyKoVi8NhyR1TxXyKEHOztMQzl5BU2NjV18JsVGo1GoVQaNyho9YemPY5rW4RCLodNBOezzOxV6zZeOXe6WdDCZDLM2gRkJ+fYtRu3fbw87e1sKBTKmvWbR4aHurm6tDf/iX2t7YdIoUhMpVLM6XSVSq3WqM3pdJ3+De6zvY5MLtc5vASrXtCHmBmKnX5cjk6LwQs6SCSSztsTlUqxsuyvf8+iktKmpt+sCPtzuca9tekPajQMw5gMRmd6UKnUGVk5drbVWq22tq5+aFBAlxQGugOJhOlPbIOzvZNzrKikbP/h47OmTiyvrHrw+EnisvfT0h+2N//1R28dmkqlUKkG8sjgPvsnAKte0Pt0x0fgktJyhVLp7eXR5T3/mdQ3NPKra5gMhqszz+AbpUGw6u0SnZn2LS3CrNz8kWGhXVoRIpbXj59mFJeWeXt6BPh5k0hw/ZAB+qteiF7Q+/T2o099DURvl4Bp33vpRy98QgEAAABMCqIXAAAAMCmIXgAAAMCkIHoBAAAAk4LoBQAAAEwKohcAAAAwKYheAAAAwKQgegEAAACTgugFAAAATAqiFwAAADApiF4AAADApCB6AQAAAJOC6AV9V1FJWcrNu8T2kFHRlVX8nq7oNXL9xp2cvIL2bs3MzhWJxKatCHRU0o/JtfUNXdhhWvqjzOzcLuzwFbq8+PYYnMNPM7Nu3k0zwegQvaDvKigquXglhdjetnGttZVlT1f0GvH18eI5OrR3a2lZhUgM0fuaOnT0VE1tXRd2eOP2T88ys7uww1fo8uLbY3AOuzrzfAd7mmB0+NFA0Pt08NfTfnmaeTX1lof7wOOnzyadPHzh8vWjp840NQu8PNw3fPqvguKSrbsONDUL3Fydk04envu3xdu/XFff0Hj2+wt2tjZJ55NZTOa61YkhwYFyuWLzzn2pt+852tuNHT1CKpN9FPde9z/LHnY3Ld3B3s7VhXc15aabq0tJaTmu1brwnIID/ZKvpqhUahKJNGjgAJ8OvE/BjwZ2iQ5O+3cWxuUXFttaWy1+NzYmKmLTjn0pt+5KpbKxo0d8vjoRx/EFi5clLnt/+56vli55F8fxA18fr6ziz5k+Ja+gaFViPM/JIenH5JNnflCrVJNjxi95N3bbnoMXr1xHCE2aMG5FwlL9EdPSH+l00iQQHDt1dseX6xBC/Oqa5avXnz6yT6FQ7DrwdfLVVEd7uwXz50ZHRkhlsn9v2nn95h0Gw3zWtEnxSxbNX/RBa/H+PoM/37QjMyvH1trqg8V/nzQh0uiXTqlU3bufLhSJMQyzsbIMHx5y6Vpq6xyWyxVUKqWxWSCXyZ15ji1CYfiwkBt3frK2tKys4qtUKg6bFTEqnEwmNwtaHjx+IpcrzM3pDHNzWxtrz0EDO1IA/Ggg6EMkUmnKrbtnf7jw3t/nV1bxt+05mLB08XcnDnE47DM/XAjw9Z40IdLLw335R3HEwWe1Wi2Tyq7fvCOVyb7eu3VIUMC23QcRQtv2HCwoKjmw48sF8+ceOnqqtq6+p5+ZKchkcqVSibRatVpTUVk1LCTYhedUXvlCKpMF+fthGObi7OTU/rIY9JR/Ll3CYJjPnzdnaHDAj8nX7t1/sGvz+hOHdmdm5fz84LFGrSktr1y7Yeuk6EgWyyJ++ZrJ0VGH92wtr3zx+GmGUqW6k5Z+6OiplQkfrv/0k8vXUr8/nzxzaoyPl+eEcWNmTZukPxz/ZbV+JzKprKKyiriDQqHMLyxGCO07dCy/sOTQ7i2xb7+5cu3GgqLi5Cup+YXFZ44d3Lrhs3MXrzzJyGxb/N5DR+1srM+dPrJg/tw16zfL5HKjX5PcgkKJVDYqfFhwoF9dQ+ML/su2c1gml5eUVSgUCk+PgQqFQiZXIITkckVpeYWft1dQgG+LUFRe+UKr1d5LS6fRaOHDQ7gcTkNjU2c+UEL0gj8zqVS2b/vGGVNi2CyLTetXx0SNtbay5LLZzYIWO1ubQe5u/bjckOBAnUd9/OE/PAe5z3tjRlFJmUajOXfxSsLSxb7eXtGRETOnTuyhp9KTggP97GxtAv19EUIiscTJ0R4hZGttxWGzero0oCsowJdOo3kP9nSws/XydN/6xWfBAX5cLodlYSFoERL3iY9b9Nd5bzzLzBoS5P/2mzO9PNyXL4sjbrpw6drs6ZM93N0GOPNi33nrwuXr7m4D7GxteE6OnoPc9Ye7eTdNvxN9OK49/d25hX+dZ2ttNWxoUHRkRMrNu2QyWSQW19U3BPn7HNm33dWZ17Z4CoVcU1cvk8tnTZt0aM8WDGFGvyYkjITjuFgicbS3HzE8pD+XqzOHSSRSdGSEm6tL20e58BxdXXgDXJyZDIZILKmprdPg+KiwUFtrq+EhwSRSp9KT0pkHA/Cac3Swt7ezQQhZWfbPysnbvvugSCJhMZl+vt7tPcSF52RGpSKE6HQ6QqipWYAQaj3r6cxzzM0vNOEzeC2wWMTbE4ZhGPrtcTPwOrO2stx78D8fJKxkMZkiiaS1PdDPByFUU1vn7uZKtNjZWhMbFZVV9+4/OHzsNPEng/E7R7kNdqKvqbkZIbQ0cXVry/hxoxfGvl1UUkI0jh83Wie54xYt2LRj3zsL4xgM8zdnTSNqNo6Xh3uzQPAsM/tZZjabZRE+LETnDlwOG8N0o93CwoLYIJNJWlwrEkvIZDKVSiUa6TSa0fVA9II/OZYFk9hI+vHST/cffrV7C8/J4dTZH7Jy8jvYA5tlgRCqb2gkLsLiv6zuznpfU8YvN0CP2rR9L5PBuJx0ks1mxS9f09pOBCqXw8krKCJa6v53UbGNtdVf5s6eEhOFEBKLJY3NglcPYbATjERSazTEtkgkQghx2GyE0JljB114jgih2roGMoUsEksWL4xNWLok43n2vzfvOnLi28T4Ja094zi+dcOnKrXqp58frlm/2cfLc9yYEca9DgqFImRIIM3MrOpldUZm9pOM56PCh7W9A5VqIAp1sphOp+E4rsFxMolE9GlcMQQ44Az6hLr6Bp6Tg6ODfVOz4NLVVLVKRSzjhCKhXP6qXYhGo4WFDv3PyTMisTgzK+f785dNWPXrC8MwmUyO43hPFwIMoFIoAkGLRqN5WV0z2HMQm80qKCpOS3/UGoeEsNAh9+4/ePjLM7FEsv/r40TjyPDQ785dFEukWq12296vrqbcIpZ9QqFIqVLpj2WwEw6bxX9ZXVpeqVKpv0k6T2TbyLDQ02fPYRhJKpPFJawsLas4+/2FtV9sRQgNDQoc7DlIo9G0LX7luo3fJJ2zYDIjRoX378fFcY3+6B30PCfv3v0HCCFnJ0cGg0Fc8fRH57CdjTVC6Flmlkqlep6dq+nc5IfoBX1CdFTE08ysMRNnTp/7t5AhgXfS0n9++IuHu1tZxYsR46cR98EQhhk6f7MqMV4oEkVMnL3isy8mR0cyGQyTl9+DMGRo2cvlcDKzczOe5/RITeDVRoSFfrxi7bdJ5+fOmbFz/+FR0TNWf74pOjJiy879IrGESB2EkJ/P4IQPF/9z1boxMbOIw6d0Om3O9CmeHu7jp70VHjWtpUUU+/YbCKGgAL/j33yXuOpz/bEMduLhPnD0iOFvzF80bsocLufXCwI++fiD8soXw8dNnvpm7MiwkJFhoW/Nmd7Q2BQ2bsqYiTOLikvnzZnRtvj499/9Nun86JiZoybM8PX2Ch+ue5S44/x9BqtUqguXr5+/dE0qk/l6e71iDmMGNxEyMzMbEuTP51cnX019wX9Jo5lRKcYfNoYvF4Hep4PfstChVquFQlG/flwMw4QiMcuCqX92x6BrN277eHna29lQKJQ16zePDA+NjowwooA+C75c1CWMm/ZyuUKpVLLZLK1WKxJLiBMohCp+dXZefkzUWI1GU8Wv/jBx9cWzx4iblEqlWqPRGRHH8axc3TM1/bic3PxCg50IWloYDIbZ/06OEsQSCZ1Go7QJLaFQhGtxLoejXzyO4wJBC51O/91Tzh1BfMPHuJeReAPJySv0HuxBXGCVfCUlcsxIVpvX83eHbtsC53pBX0GhUPr370dsszu2wxCKSsr2Hz4+a+rE8sqqB4+fJC57v9tqBKCL0ek0Op1GrHR1pr2ZGXXDll2Pn2Q4Otidv3R99vRJbW4yM9PrSqPBs7LzdBrHjhnRXicG09SCydRpYbd/nTyJRGrdZzvPnE7vzMMpFEplFZ9fXWNrbVVbV0+n0TqYuwbBqhf0PkZ/bjUOjmsfP80oLi3z9vQI8PPu5JcK+iBY9XaJ7pj2DY1NaemPEEKjw4cZHXJd0kmvoFKpyyoqpDI5z9HB8o88U/1VL0Qv6H1MHL2gkyB6uwRM+94L/psVAAAA0MMgegEAAACTgugFAAAATAqiFwAAADApiF4AAADApCB6AQAAAJOC6AUAAABMCqIXAAAAMCmIXgAAAMCkIHoBAN2rgz9TAUDfAf9IEgAAAOhOGIbgH0kCAAAApvPb3IXoBQAAAEwNohcAAAAwKYheAAAAwKT+CxIjhwNo5VeAAAAAAElFTkSuQmCC)\n"
      ],
      "metadata": {
        "id": "mQX2bi9SL1kY"
      }
    },
    {
      "cell_type": "markdown",
      "source": [
        "# Task 1\n",
        "\n",
        "Before you can start any analysis, you need to confirm that the data is accurate and reflects what you expect to see.\n",
        "\n",
        "It is known that there are some issues with the `branch` table, and the data team have provided the following data description.\n",
        "\n",
        "Write a query to return data matching this description. You must match all column names and description criteria.\n",
        "\n",
        "| Column Name | Criteria                                                |\n",
        "|-------------|---------------------------------------------------------|\n",
        "|id | Nominal. The unique identifier of the hotel. </br>Missing values are not possible due to the database structure.|\n",
        "| location | Nominal. The location of the particular hotel. One of four possible values, 'EMEA', 'NA', 'LATAM' and 'APAC'. </br>Missing values should be replaced with “Unknown”. |\n",
        "| total_rooms | Discrete. The total number of rooms in the hotel. Must be a positive integer between 1 and 400. </br>Missing values should be replaced with the default number of rooms, 100. |\n",
        "| staff_count | Discrete. The number of staff employeed in the hotel service department. </br>Missing values should be replaced with the total_rooms multiplied by 1.5. |\n",
        "| opening_date | Discrete. The year in which the hotel opened. This can be any value between 2000 and 2023. </br>Missing values should be replaced with 2023. |\n",
        "| target_guests | Nominal. The primary type of guest that is expected to use the hotel. Can be one of 'Leisure' or 'Business'. </br>Missing values should be replaced with 'Leisure'. |\n"
      ],
      "metadata": {
        "id": "Tw9vem6tKwyr"
      }
    },
    {
      "cell_type": "code",
      "source": [
        "SELECT\n",
        "    id,\n",
        "    COALESCE(location, 'Unknown') AS location,\n",
        "    CASE\n",
        "        WHEN total_rooms BETWEEN 1 AND 400 THEN total_rooms\n",
        "        ELSE 100\n",
        "    END AS total_rooms,\n",
        "    CASE\n",
        "        WHEN staff_count IS NOT NULL THEN staff_count\n",
        "        ELSE total_rooms * 1.5\n",
        "    END AS staff_count,\n",
        "    CASE\n",
        "        WHEN opening_date = '-' THEN '2023'\n",
        "        WHEN opening_date BETWEEN '2000' AND '2023' THEN opening_date\n",
        "        ELSE '2023'\n",
        "    END AS opening_date,\n",
        "    CASE\n",
        "        WHEN target_guests IS NULL THEN 'Leisure'\n",
        "        WHEN LOWER(target_guests) LIKE 'b%' THEN 'Business'\n",
        "        ELSE target_guests END AS target_guests\n",
        "FROM\n",
        "    public.branch;"
      ],
      "metadata": {
        "id": "o4Lhz7jASKuB"
      },
      "execution_count": null,
      "outputs": []
    },
    {
      "cell_type": "code",
      "source": [
        "SELECT\n",
        "    id,\n",
        "    -- Clean location values, replace missing with 'Unknown'\n",
        "    COALESCE(TRIM(location), 'Unknown') AS location,\n",
        "\n",
        "    -- Ensure total_rooms is a positive integer between 1 and 400, replace invalid/missing with 100\n",
        "    COALESCE(\n",
        "        CASE\n",
        "            WHEN total_rooms::int BETWEEN 1 AND 400 THEN total_rooms::int\n",
        "            ELSE NULL\n",
        "        END, 100) AS total_rooms,\n",
        "\n",
        "    -- Ensure staff_count is valid, otherwise replace with total_rooms * 1.5\n",
        "    COALESCE(staff_count::int, total_rooms::int * 1.5) AS staff_count,\n",
        "\n",
        "    -- Clean and cast opening_date, ensuring it's between 2000 and 2023, replace invalid/missing with 2023\n",
        "    COALESCE(\n",
        "        CASE\n",
        "            WHEN opening_date ~ '^[0-9]+$' AND opening_date::int BETWEEN 2000 AND 2023 THEN opening_date::int\n",
        "            ELSE NULL\n",
        "        END, 2023) AS opening_date,\n",
        "\n",
        "    -- Clean target_guests, replace missing values with 'Leisure'\n",
        "    COALESCE(\n",
        "        CASE\n",
        "            WHEN LOWER(target_guests) IN ('leisure', 'business') THEN target_guests\n",
        "            ELSE NULL\n",
        "        END, 'Leisure') AS target_guests\n",
        "\n",
        "FROM\n",
        "    Branch;\n"
      ],
      "metadata": {
        "id": "2hNauk2HKjlu"
      },
      "execution_count": null,
      "outputs": []
    },
    {
      "cell_type": "markdown",
      "source": [
        "# Task 2\n",
        "\n",
        "The Head of Operations wants to know whether there is a difference in time taken to respond to a customer request in each hotel. They already know that different services take different lengths of time.\n",
        "\n",
        "Calculate the average and maximum duration for each branch and service. Your output should include the columns `service_id`, `branch_id`, `avg_time_taken` and `max_time_taken`. Values should be rounded to two decimal places where appropriate.\n"
      ],
      "metadata": {
        "id": "l1L15zhrLRDL"
      }
    },
    {
      "cell_type": "code",
      "source": [
        "SELECT\n",
        "    service_id,\n",
        "    branch_id,\n",
        "    ROUND(AVG(time_taken), 2) AS avg_time_taken,\n",
        "    ROUND(MAX(time_taken), 2) AS max_time_taken\n",
        "FROM\n",
        "    Request\n",
        "GROUP BY\n",
        "    service_id, branch_id;"
      ],
      "metadata": {
        "id": "Hy_Zj7L9LVTa"
      },
      "execution_count": null,
      "outputs": []
    },
    {
      "cell_type": "markdown",
      "source": [
        "# Task 3\n",
        "\n",
        "The management team want to target improvements in `Meal` and `Laundry` service in Europe (`EMEA`) and Latin America (`LATAM`).\n",
        "\n",
        "Write a query to return the `description` of the service, the `id` and `location` of the branch, the id of the request as `request_id` and the `rating` for the services and locations of interest to the management team.\n",
        "\n",
        "Use the original branch table, not the output of task 1."
      ],
      "metadata": {
        "id": "V5z7w_SiLgTC"
      }
    },
    {
      "cell_type": "code",
      "source": [
        "SELECT\n",
        "    S.description AS description,\n",
        "    B.id AS id,\n",
        "    B.location as location ,\n",
        "    R.id AS request_id,\n",
        "    R.rating as rating\n",
        "FROM\n",
        "    Request R\n",
        "JOIN\n",
        "    Service S ON R.service_id = S.id\n",
        "JOIN\n",
        "    Branch B ON R.branch_id = B.id\n",
        "WHERE\n",
        "    B.location IN ('EMEA', 'LATAM')\n",
        "    AND S.description IN ('Meal', 'Laundry');"
      ],
      "metadata": {
        "id": "v-6DeHiSLeVP"
      },
      "execution_count": null,
      "outputs": []
    },
    {
      "cell_type": "markdown",
      "source": [
        "# Task 4\n",
        "\n",
        "So that you can take a more detailed look at the lowest performing hotels, you want to get service and branch information where the average rating for the branch and service combination is lower than 4.5 - the target set by management.  \n",
        "\n",
        "Your query should return the `service_id` and `branch_id`, and the average rating (`avg_rating`), rounded to 2 decimal places."
      ],
      "metadata": {
        "id": "BsFJZlSTLpej"
      }
    },
    {
      "cell_type": "code",
      "source": [
        "SELECT\n",
        "    service_id,\n",
        "    branch_id,\n",
        "    ROUND(AVG(rating), 2) AS avg_rating\n",
        "FROM\n",
        "    Request\n",
        "GROUP BY\n",
        "    service_id, branch_id\n",
        "HAVING\n",
        "    AVG(rating) < 4.5;"
      ],
      "metadata": {
        "id": "xZ1aXkGTLr2Z"
      },
      "execution_count": null,
      "outputs": []
    }
  ]
}